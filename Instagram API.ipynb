{
 "cells": [
  {
   "cell_type": "code",
   "execution_count": null,
   "metadata": {},
   "outputs": [],
   "source": [
    "from selenium import webdriver\n",
    "from xlwt import Workbook\n",
    "import pandas as pd\n",
    "import threading\n",
    "import time\n"
   ]
  },
  {
   "cell_type": "code",
   "execution_count": null,
   "metadata": {},
   "outputs": [],
   "source": [
    "#Defining Variable\n",
    "\n",
    "loc=r'C:\\Users\\SHADOW\\Downloads\\chromedriver_win32\\chromedriver.exe'\n",
    "login='//*[@id=\"react-root\"]/section/main/article/div[2]/div[1]/div/form/div[4]'\n",
    "user='//*[@id=\"react-root\"]/section/main/article/div[2]/div[1]/div/form/div[2]/div/label/input'\n",
    "passw='//*[@id=\"react-root\"]/section/main/article/div[2]/div[1]/div/form/div[3]/div/label/input'\n",
    "pic='//*[@id=\"react-root\"]/section/nav/div[2]/div/div/div[3]/div/div[5]/a/img'\n",
    "not_now='/html/body/div[4]/div/div/div[3]/button[2]'\n",
    "xfollower='//*[@id=\"react-root\"]/section/main/div/header/section/ul/li[2]/a'\n",
    "xfollowing='//*[@id=\"react-root\"]/section/main/div/header/section/ul/li[3]/a'\n",
    "scroll='/html/body/div[4]/div/div[2]'\n",
    "close='/html/body/div[4]/div/div[1]/div/div[2]/button/svg'\n",
    "URL='https://www.instagram.com/'\n",
    "\n",
    "no_of_following=0\n",
    "no_of_followers=0\n",
    "no_of_post=0\n",
    "follower=set()\n",
    "following=set()"
   ]
  },
  {
   "cell_type": "code",
   "execution_count": null,
   "metadata": {},
   "outputs": [],
   "source": [
    "# Function to get "
   ]
  },
  {
   "cell_type": "code",
   "execution_count": null,
   "metadata": {},
   "outputs": [],
   "source": [
    "def opening_tab(username,password):\n",
    "    driver=webdriver.Chrome(loc)      #used to locate the chrome driver in your pc\n",
    "    driver.get(URL)                 #to open the website \n",
    "    time.sleep(3)                 #wait till site is being load\n",
    "    driver.find_element_by_xpath(user).click()        #clicking on the username textfield\n",
    "    driver.find_element_by_xpath(user).send_keys(username)  #giving input to textfield as given by user \n",
    "    driver.find_element_by_xpath(passw).click()       #clicking on the password textfield\n",
    "    driver.find_element_by_xpath(passw).send_keys(password)        #giving password\n",
    "    driver.find_element_by_xpath(login).click()   #clicking on the login button\n",
    "\n",
    "    time.sleep(3)    #wait till it is loaded\n",
    "    driver.find_element_by_xpath(not_now).click()    \n",
    "    driver.find_element_by_xpath(pic).click()\n",
    "    return driver\n",
    "\n",
    "#for scrolling the list of followers and following and saving tht list\n",
    "def scrolling(driver,x,total,s):\n",
    "    \n",
    "    driver.find_element_by_xpath(x).click()\n",
    "    time.sleep(3)\n",
    "    eula = driver.find_element_by_xpath(scroll)\n",
    "    for i in range(total//10):\n",
    "        for title in driver.find_elements_by_css_selector('a.FPmhX '):\n",
    "                s.add(title.text)        \n",
    "        driver.execute_script('arguments[0].scrollTop = arguments[0].scrollHeight', eula)\n",
    "        time.sleep(3) \n",
    "\n",
    "#for getting the follower list \n",
    "def followers_func(username,password):\n",
    "    driver1=opening_tab(username,password)\n",
    "    time.sleep(2)\n",
    "    no_of_post=driver1.find_element_by_xpath('//*[@id=\"react-root\"]/section/main/div/header/section/ul/li[1]/span/span').text\n",
    "    no_of_followers=int(driver1.find_element_by_xpath('//*[@id=\"react-root\"]/section/main/div/header/section/ul/li[2]/a/span').text)\n",
    "    scrolling(driver1,xfollower,no_of_followers,follower)\n",
    "    \n",
    "#for getting the following list\n",
    "def following_func(username,password):\n",
    "    driver2=opening_tab(username,password)\n",
    "    time.sleep(2)\n",
    "    no_of_following=int(driver2.find_element_by_xpath('//*[@id=\"react-root\"]/section/main/div/header/section/ul/li[3]/a/span').text)\n",
    "    scrolling(driver2, xfollowing, no_of_following, following)\n",
    "\n"
   ]
  },
  {
   "cell_type": "code",
   "execution_count": null,
   "metadata": {},
   "outputs": [],
   "source": [
    "#Main Code\n",
    "username=input('Enter the username :')        #getting the username from user\n",
    "password=input('Enter the password :')        #getting the password from user\n",
    "try:\n",
    "    t1 = threading.Thread(target=followers_func, name='t1',args=(username,password,))        #creating thread to achieve parallelism \n",
    "    t2 = threading.Thread(target=following_func, name='t2',args=(username,password,))        #thread1--->get the follower list\n",
    "                                                                                         #thread2--->get the following list\n",
    "    t1.start()    #start execution of thread1\n",
    "    t2.start()    #start exectuion of thread2\n",
    "\n",
    "    t1.join()     #main program also run along with the thread so join is used to wait until thread is being executed\n",
    "    t2.join()\n",
    "\n",
    "    mutual=list(follower&following)    #intersection of 2 set and converting it into list\n",
    "    fans=list(follower-following)      #difference of 2 set \n",
    "    not_follow_back=list(following-follower)    \n",
    "\n",
    "    # Workbook is created \n",
    "    wb = Workbook() \n",
    "  \n",
    "    # add_sheet is used to create sheet. \n",
    "    sheet1 = wb.add_sheet(username) \n",
    "\n",
    "    #writing data to excel file  \n",
    "    sheet1.write(1, 0, 'Follower = {}'.format(len(follower))) \n",
    "    sheet1.write(2, 0, 'Following = {}'.format(len(following))) \n",
    "    sheet1.write(3, 0, 'Friends = {}'.format(len(mutual))) \n",
    "    sheet1.write(4, 0, 'Fans = {}'.format(len(fans))) \n",
    "    sheet1.write(5, 0, 'Not Follow Back = {}'.format(len(not_follow_back))) \n",
    "\n",
    "    sheet1.write(8, 1, 'Friends') \n",
    "    sheet1.write(8, 2, 'Following') \n",
    "    sheet1.write(8, 3, 'Follower') \n",
    "    sheet1.write(8, 4, 'Fans') \n",
    "    sheet1.write(8, 5, 'Not Follow Back')\n",
    "\n",
    "    list_all=[mutual,following,follower,fans,not_follow_back]\n",
    "    z=1\n",
    "    for l in list_all:\n",
    "        for j,i in enumerate(l):\n",
    "            sheet1.write(j+9, z, i)\n",
    "        z=z+1\n",
    "    \n",
    "    wb.save('{}.xls'.format(username))\n",
    "    print('File is created successfully...')\n",
    "except:\n",
    "    print(\"Sorry can't able to load....\\nPlease check your internet connection\")\n",
    "    \n",
    "\n"
   ]
  },
  {
   "cell_type": "markdown",
   "metadata": {},
   "source": []
  },
  {
   "cell_type": "code",
   "execution_count": null,
   "metadata": {},
   "outputs": [],
   "source": []
  },
  {
   "cell_type": "code",
   "execution_count": null,
   "metadata": {},
   "outputs": [],
   "source": []
  },
  {
   "cell_type": "code",
   "execution_count": null,
   "metadata": {},
   "outputs": [],
   "source": []
  },
  {
   "cell_type": "code",
   "execution_count": null,
   "metadata": {},
   "outputs": [],
   "source": []
  },
  {
   "cell_type": "code",
   "execution_count": null,
   "metadata": {},
   "outputs": [],
   "source": []
  },
  {
   "cell_type": "code",
   "execution_count": null,
   "metadata": {},
   "outputs": [],
   "source": []
  },
  {
   "cell_type": "code",
   "execution_count": null,
   "metadata": {},
   "outputs": [],
   "source": []
  },
  {
   "cell_type": "code",
   "execution_count": null,
   "metadata": {},
   "outputs": [],
   "source": []
  },
  {
   "cell_type": "code",
   "execution_count": null,
   "metadata": {},
   "outputs": [],
   "source": []
  }
 ],
 "metadata": {
  "kernelspec": {
   "display_name": "Python 3",
   "language": "python",
   "name": "python3"
  },
  "language_info": {
   "codemirror_mode": {
    "name": "ipython",
    "version": 3
   },
   "file_extension": ".py",
   "mimetype": "text/x-python",
   "name": "python",
   "nbconvert_exporter": "python",
   "pygments_lexer": "ipython3",
   "version": "3.7.4"
  }
 },
 "nbformat": 4,
 "nbformat_minor": 2
}
